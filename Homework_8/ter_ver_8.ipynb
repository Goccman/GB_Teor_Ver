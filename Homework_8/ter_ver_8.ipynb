{
  "nbformat": 4,
  "nbformat_minor": 0,
  "metadata": {
    "colab": {
      "provenance": []
    },
    "kernelspec": {
      "name": "python3",
      "display_name": "Python 3"
    },
    "language_info": {
      "name": "python"
    }
  },
  "cells": [
    {
      "cell_type": "markdown",
      "source": [
        "###**Провести дисперсионный анализ для определения того, есть ли различия среднего роста среди взрослых футболистов, хоккеистов и штангистов. Даны значения роста в трех группах случайно выбранных спортсменов: Футболисты: 173, 175, 180, 178, 177, 185, 183, 182. Хоккеисты: 177, 179, 180, 188, 177, 172, 171, 184, 180. Штангисты: 172, 173, 169, 177, 166, 180, 178, 177, 172, 166, 170. alpha = 0.05.** "
      ],
      "metadata": {
        "id": "7nKDAxwoxHww"
      }
    },
    {
      "cell_type": "markdown",
      "source": [
        "Для проведения дисперсионного анализа сначала необходимо проверить гипотезу о равенстве дисперсий выборок:\n",
        "\n",
        "$H_0$: дисперсии выборок равны.\n",
        "\n",
        "$H_1$: дисперсии выборок не равны.\n",
        "\n",
        "Проверим гипотезу о равенстве дисперсий выборок с помощью критерия Левена:"
      ],
      "metadata": {
        "id": "nnpMmowhxnOQ"
      }
    },
    {
      "cell_type": "code",
      "source": [
        "import numpy as np\n",
        "from scipy.stats import levene\n",
        "from scipy.stats import f_oneway"
      ],
      "metadata": {
        "id": "dLh4gDGZx6Bw"
      },
      "execution_count": 10,
      "outputs": []
    },
    {
      "cell_type": "code",
      "source": [
        "football = np.array([173, 175, 180, 178, 177, 185, 183, 182])\n",
        "hockey = np.array([177, 179, 180, 188, 177, 172, 171, 184, 180])\n",
        "weightlifting = np.array([172, 173, 169, 177, 166, 180, 178, 177, 172, 166, 170])\n",
        "\n",
        "stat, p = levene(football, hockey, weightlifting)\n",
        "\n",
        "print('Статистика критерия Левена:', stat)\n",
        "print('p-value:', p)"
      ],
      "metadata": {
        "colab": {
          "base_uri": "https://localhost:8080/"
        },
        "id": "DfksvVUCyrGM",
        "outputId": "b177a972-0aed-4ce5-fe65-56033ebf700b"
      },
      "execution_count": 11,
      "outputs": [
        {
          "output_type": "stream",
          "name": "stdout",
          "text": [
            "Статистика критерия Левена: 0.0836323510368345\n",
            "p-value: 0.920025568103872\n"
          ]
        }
      ]
    },
    {
      "cell_type": "markdown",
      "source": [
        "p-value больше 0.05, поэтому на уровне значимости 0.05 гипотеза о равенстве дисперсий выборок не отвергается.\n",
        "\n",
        "Таким образом, можно провести дисперсионный анализ с помощью однофакторного дисперсионного анализа (ANOVA):"
      ],
      "metadata": {
        "id": "9Wp_I0463JOT"
      }
    },
    {
      "cell_type": "code",
      "source": [
        "stat, p = f_oneway(football, hockey, weightlifting)\n",
        "\n",
        "print('Статистика критерия F:', stat)\n",
        "print('p-value:', p)"
      ],
      "metadata": {
        "colab": {
          "base_uri": "https://localhost:8080/"
        },
        "id": "GjYNiDpb3Iuv",
        "outputId": "5a6f9ed6-ccc5-4e1f-b53b-b669d5f18a8a"
      },
      "execution_count": 12,
      "outputs": [
        {
          "output_type": "stream",
          "name": "stdout",
          "text": [
            "Статистика критерия F: 5.500053450812596\n",
            "p-value: 0.010482206918698694\n"
          ]
        }
      ]
    },
    {
      "cell_type": "markdown",
      "source": [
        "p-value меньше 0.05, что говорит о том, что на уровне значимости 0.05 средние значения роста спортсменов в трех группах статистически значимо различаются."
      ],
      "metadata": {
        "id": "8HCoYHrv3bj9"
      }
    },
    {
      "cell_type": "code",
      "source": [],
      "metadata": {
        "id": "HRhif03_3dLd"
      },
      "execution_count": null,
      "outputs": []
    }
  ]
}