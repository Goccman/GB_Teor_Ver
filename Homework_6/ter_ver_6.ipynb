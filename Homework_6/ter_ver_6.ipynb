{
  "nbformat": 4,
  "nbformat_minor": 0,
  "metadata": {
    "colab": {
      "provenance": []
    },
    "kernelspec": {
      "name": "python3",
      "display_name": "Python 3"
    },
    "language_info": {
      "name": "python"
    }
  },
  "cells": [
    {
      "cell_type": "markdown",
      "source": [
        "**Даны значения величины заработной платы заемщиков банка (zp) и значения их поведенческого кредитного скоринга (ks):  \n",
        "zp = [35, 45, 190, 200, 40, 70, 54, 150, 120, 110],    \n",
        "ks = [401, 574, 874, 919, 459, 739, 653, 902, 746, 832].  \n",
        "Найдите ковариацию этих двух величин с помощью элементарных действий, а затем с помощью функции cov из numpy\n",
        "Полученные значения должны быть равны.\n",
        "Найдите коэффициент корреляции Пирсона с помощью ковариации и среднеквадратичных отклонений двух признаков,\n",
        "а затем с использованием функций из библиотек numpy и pandas.**"
      ],
      "metadata": {
        "id": "7SQeJDs7fqRI"
      }
    },
    {
      "cell_type": "code",
      "source": [
        "import numpy as np\n",
        "import pandas as pd\n",
        "zp = [35, 45, 190, 200, 40, 70, 54, 150, 120, 110]\n",
        "ks = [401, 574, 874, 919, 459, 739, 653, 902, 746, 832]\n",
        "\n",
        "# Находим среднее значение для каждой выборки\n",
        "zp_mean = sum(zp) / len(zp)\n",
        "ks_mean = sum(ks) / len(ks)\n",
        "\n",
        "# Находим ковариацию\n",
        "cov = sum((zp[i] - zp_mean) * (ks[i] - ks_mean) for i in range(len(zp))) / len(zp)\n",
        "\n",
        "print(\"Ковариация:\", cov)"
      ],
      "metadata": {
        "colab": {
          "base_uri": "https://localhost:8080/"
        },
        "id": "5EzCMfmPfubZ",
        "outputId": "1d57320d-7d8b-4255-fd24-d5022fc92284"
      },
      "execution_count": 3,
      "outputs": [
        {
          "output_type": "stream",
          "name": "stdout",
          "text": [
            "Ковариация: 9157.84\n"
          ]
        }
      ]
    },
    {
      "cell_type": "code",
      "source": [
        "# Находим ковариацию с помощью функции cov из библиотеки numpy\n",
        "cov = np.cov(zp, ks, ddof=0)[0][1]\n",
        "\n",
        "print(\"Ковариация:\", cov)"
      ],
      "metadata": {
        "colab": {
          "base_uri": "https://localhost:8080/"
        },
        "id": "LjJEmR6LoSmx",
        "outputId": "50d484b5-cf41-4652-9009-031aa009914b"
      },
      "execution_count": 4,
      "outputs": [
        {
          "output_type": "stream",
          "name": "stdout",
          "text": [
            "Ковариация: 9157.84\n"
          ]
        }
      ]
    },
    {
      "cell_type": "code",
      "source": [
        "# Находим коэффициент корреляции Пирсона с помощью функций из библиотек numpy и pandas.\n",
        "r = np.corrcoef(zp, ks)\n",
        "print(r)"
      ],
      "metadata": {
        "colab": {
          "base_uri": "https://localhost:8080/"
        },
        "id": "Q8bpiwT5pJQc",
        "outputId": "1edb3eb3-e957-466f-bf0a-0ed72df5c85e"
      },
      "execution_count": 5,
      "outputs": [
        {
          "output_type": "stream",
          "name": "stdout",
          "text": [
            "[[1.         0.88749009]\n",
            " [0.88749009 1.        ]]\n"
          ]
        }
      ]
    },
    {
      "cell_type": "code",
      "source": [
        "df = pd.DataFrame({'zp': zp, 'ks': ks})\n",
        "r = df.corr()\n",
        "print(r)"
      ],
      "metadata": {
        "colab": {
          "base_uri": "https://localhost:8080/"
        },
        "id": "fRIVdvFKpqeq",
        "outputId": "a85293de-e50f-48f3-dbf2-1f17713cc03c"
      },
      "execution_count": 6,
      "outputs": [
        {
          "output_type": "stream",
          "name": "stdout",
          "text": [
            "         zp       ks\n",
            "zp  1.00000  0.88749\n",
            "ks  0.88749  1.00000\n"
          ]
        }
      ]
    },
    {
      "cell_type": "markdown",
      "source": [
        "Ответ: \n",
        "Ковариация двух величин равна 9157,84\n",
        "Коэффициент корреляции Пирсона двух величин равен 0,88749009"
      ],
      "metadata": {
        "id": "IT-W2BUtpy56"
      }
    },
    {
      "cell_type": "markdown",
      "source": [
        "**Измерены значения IQ выборки студентов,\n",
        "обучающихся в местных технических вузах:  \n",
        "131, 125, 115, 122, 131, 115, 107, 99, 125, 111.  \n",
        "Известно, что в генеральной совокупности IQ распределен нормально.\n",
        "Найдите доверительный интервал для математического ожидания с надежностью 0.95** \n"
      ],
      "metadata": {
        "id": "HEvnwH8iqtej"
      }
    },
    {
      "cell_type": "code",
      "source": [
        "data = [131, 125, 115, 122, 131, 115, 107, 99, 125, 111]\n",
        "mean = np.mean(data)\n",
        "std = np.std(data, ddof=1)"
      ],
      "metadata": {
        "id": "2fB2srNarKko"
      },
      "execution_count": 7,
      "outputs": []
    },
    {
      "cell_type": "code",
      "source": [
        "# Найдем t-значение для интервала с надежностью 0.95 и 9 степенями свободы (10 минус 1):\n",
        "\n",
        "t = 2.262\n",
        "n = len(data)\n",
        "lower = mean - t * std / np.sqrt(n)\n",
        "upper = mean + t * std / np.sqrt(n)\n",
        "print(lower, upper)"
      ],
      "metadata": {
        "colab": {
          "base_uri": "https://localhost:8080/"
        },
        "id": "dIA0MxurqzHh",
        "outputId": "cad6d74d-589d-4a2f-91a9-2f86687d72f6"
      },
      "execution_count": 9,
      "outputs": [
        {
          "output_type": "stream",
          "name": "stdout",
          "text": [
            "110.55660776308164 125.64339223691834\n"
          ]
        }
      ]
    },
    {
      "cell_type": "markdown",
      "source": [
        "Ответ: доверительный интервал располагается в диапазоне (110.56, 125,64)"
      ],
      "metadata": {
        "id": "EMgd6L3otDpS"
      }
    },
    {
      "cell_type": "markdown",
      "source": [
        "**Известно, что рост футболистов в сборной распределен нормально\n",
        "с дисперсией генеральной совокупности, равной 25 кв.см. Объем выборки равен 27,\n",
        "среднее выборочное составляет 174.2. Найдите доверительный интервал для математического\n",
        "ожидания с надежностью 0.95.**"
      ],
      "metadata": {
        "id": "Ri7xb7mKt3bf"
      }
    },
    {
      "cell_type": "code",
      "source": [
        "import scipy\n",
        "alpha = 0.05\n",
        "n = 27\n",
        "mean = 174.2\n",
        "std = np.sqrt(25)\n",
        "\n",
        "t = np.abs(np.round(np.float64(\n",
        "    np.abs(\n",
        "        np.round(\n",
        "            scipy.stats.t.ppf(alpha/2, df=n-1), 3\n",
        "        )\n",
        "    )\n",
        "), 3))\n",
        "\n",
        "print(\"t-критерий Стьюдента:\", t)"
      ],
      "metadata": {
        "colab": {
          "base_uri": "https://localhost:8080/"
        },
        "id": "7Q5A97S4wIgH",
        "outputId": "535599ad-6c2a-4fd8-8d44-391db1610eeb"
      },
      "execution_count": 13,
      "outputs": [
        {
          "output_type": "stream",
          "name": "stdout",
          "text": [
            "t-критерий Стьюдента: 2.056\n"
          ]
        }
      ]
    },
    {
      "cell_type": "code",
      "source": [
        "interval = np.round(np.float64([\n",
        "    mean - t * std / np.sqrt(n),\n",
        "    mean + t * std / np.sqrt(n)\n",
        "]), 2)\n",
        "\n",
        "print(\"Доверительный интервал:\", interval)"
      ],
      "metadata": {
        "colab": {
          "base_uri": "https://localhost:8080/"
        },
        "id": "RdGN0AzBw69Z",
        "outputId": "e39d00f6-5be2-4892-c119-aae9b83a39cf"
      },
      "execution_count": 14,
      "outputs": [
        {
          "output_type": "stream",
          "name": "stdout",
          "text": [
            "Доверительный интервал: [172.22 176.18]\n"
          ]
        }
      ]
    },
    {
      "cell_type": "markdown",
      "source": [
        "Ответ: \n",
        "Доверительный интервал располагается в диапазоне  (172.22 176.18])"
      ],
      "metadata": {
        "id": "1GBRRsTqxGH2"
      }
    }
  ]
}